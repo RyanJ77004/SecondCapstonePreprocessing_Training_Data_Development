{
 "cells": [
  {
   "cell_type": "code",
   "execution_count": 1,
   "metadata": {
    "executionInfo": {
     "elapsed": 1379,
     "status": "ok",
     "timestamp": 1643296482010,
     "user": {
      "displayName": "Ryan Johnson",
      "photoUrl": "https://lh3.googleusercontent.com/a-/AOh14Ggta-KPa8DcQnksxIN_4IG2ihM4aVq0Z_x4Z5acow=s64",
      "userId": "01656293739288252438"
     },
     "user_tz": 360
    },
    "id": "as0tiWGAwbNI"
   },
   "outputs": [],
   "source": [
    "import numpy as np \n",
    "import pandas as pd \n",
    "from sklearn.model_selection import train_test_split"
   ]
  },
  {
   "cell_type": "markdown",
   "metadata": {
    "id": "5tLA8CAZrG6U"
   },
   "source": [
    "In the previous Notebook I already applied 1-hot encoding to the data.  As well, since the data has all been converted into binary categories there is no need to standardize or normalize the appropriate data.  Althought the data was split into a training and testing set from the source I\"ll still separate the data into an additional train/test split."
   ]
  },
  {
   "cell_type": "code",
   "execution_count": 2,
   "metadata": {
    "executionInfo": {
     "elapsed": 1872,
     "status": "ok",
     "timestamp": 1643296485235,
     "user": {
      "displayName": "Ryan Johnson",
      "photoUrl": "https://lh3.googleusercontent.com/a-/AOh14Ggta-KPa8DcQnksxIN_4IG2ihM4aVq0Z_x4Z5acow=s64",
      "userId": "01656293739288252438"
     },
     "user_tz": 360
    },
    "id": "0wemrMJcwe0q"
   },
   "outputs": [],
   "source": [
    "data = pd.read_csv('Data_1.csv')"
   ]
  },
  {
   "cell_type": "code",
   "execution_count": 4,
   "metadata": {
    "colab": {
     "base_uri": "https://localhost:8080/",
     "height": 407
    },
    "executionInfo": {
     "elapsed": 281,
     "status": "ok",
     "timestamp": 1643296486731,
     "user": {
      "displayName": "Ryan Johnson",
      "photoUrl": "https://lh3.googleusercontent.com/a-/AOh14Ggta-KPa8DcQnksxIN_4IG2ihM4aVq0Z_x4Z5acow=s64",
      "userId": "01656293739288252438"
     },
     "user_tz": 360
    },
    "id": "H_ts1Ii8tZ68",
    "outputId": "e8a9270b-2d5e-47ed-a693-ba9ac1082582"
   },
   "outputs": [],
   "source": [
    "print(data.shape)\n",
    "print(data.dtypes.value_counts())\n",
    "data.head()"
   ]
  },
  {
   "cell_type": "code",
   "execution_count": 5,
   "metadata": {
    "colab": {
     "base_uri": "https://localhost:8080/"
    },
    "executionInfo": {
     "elapsed": 1000,
     "status": "ok",
     "timestamp": 1643296494724,
     "user": {
      "displayName": "Ryan Johnson",
      "photoUrl": "https://lh3.googleusercontent.com/a-/AOh14Ggta-KPa8DcQnksxIN_4IG2ihM4aVq0Z_x4Z5acow=s64",
      "userId": "01656293739288252438"
     },
     "user_tz": 360
    },
    "id": "OcwUxVjyvKWZ",
    "outputId": "5a108e75-4619-48f9-ffe9-ca01cb43c804"
   },
   "outputs": [],
   "source": [
    "data = data.astype('int')  #setting all values to int for data type consistency\n",
    "print(data.dtypes.value_counts())"
   ]
  },
  {
   "cell_type": "code",
   "execution_count": 13,
   "metadata": {
    "executionInfo": {
     "elapsed": 269,
     "status": "ok",
     "timestamp": 1643296721005,
     "user": {
      "displayName": "Ryan Johnson",
      "photoUrl": "https://lh3.googleusercontent.com/a-/AOh14Ggta-KPa8DcQnksxIN_4IG2ihM4aVq0Z_x4Z5acow=s64",
      "userId": "01656293739288252438"
     },
     "user_tz": 360
    },
    "id": "dTnKKgOHFimp"
   },
   "outputs": [],
   "source": [
    "X = data.drop(columns=['h1n1_vaccine', 'seasonal_vaccine'])\n",
    "y = data[['h1n1_vaccine', 'seasonal_vaccine']]\n",
    "\n",
    "X_train, X_test, y_train, y_test = train_test_split(X, y, test_size=0.2, random_state=123)"
   ]
  },
  {
   "cell_type": "code",
   "execution_count": 14,
   "metadata": {
    "executionInfo": {
     "elapsed": 1156,
     "status": "ok",
     "timestamp": 1643297174617,
     "user": {
      "displayName": "Ryan Johnson",
      "photoUrl": "https://lh3.googleusercontent.com/a-/AOh14Ggta-KPa8DcQnksxIN_4IG2ihM4aVq0Z_x4Z5acow=s64",
      "userId": "01656293739288252438"
     },
     "user_tz": 360
    },
    "id": "NRUav_zGHhwe"
   },
   "outputs": [],
   "source": [
    "#Exporting cleaned and preprocessed data\n",
    "data.to_csv('data_clean.csv', index=False)\n",
    "X_train.to_csv('X_train.csv', index=False)\n",
    "X_test.to_csv('X_test.csv', index=False)\n",
    "y_train.to_csv('y_train.csv', index=False)\n",
    "y_test.to_csv('y_test.csv', index=False)"
   ]
  },
  {
   "cell_type": "markdown",
   "metadata": {
    "id": "OQ7LAmo-Cu2B"
   },
   "source": []
  }
 ],
 "metadata": {
  "colab": {
   "authorship_tag": "ABX9TyNWmVTwoyjz3gXIOj3zuPQQ",
   "name": "CapstoneTwo_Preprocessing_Training_Data_Development.ipynb",
   "provenance": []
  },
  "kernelspec": {
   "display_name": "Python 3",
   "language": "python",
   "name": "python3"
  },
  "language_info": {
   "codemirror_mode": {
    "name": "ipython",
    "version": 3
   },
   "file_extension": ".py",
   "mimetype": "text/x-python",
   "name": "python",
   "nbconvert_exporter": "python",
   "pygments_lexer": "ipython3",
   "version": "3.8.8"
  }
 },
 "nbformat": 4,
 "nbformat_minor": 1
}
